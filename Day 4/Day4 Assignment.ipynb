{
 "cells": [
  {
   "cell_type": "raw",
   "metadata": {},
   "source": [
    "Question 1 :Research on whether addition, subtraction, multiplication, division, floor division and modulooperations be performed on complex numbers. Based on your study, implement a Pythonprogram to demonstrate these operations."
   ]
  },
  {
   "cell_type": "markdown",
   "metadata": {},
   "source": [
    "Ans : Yes, We can perform addition, substraction, multiplication and Division operations on complex nummbers."
   ]
  },
  {
   "cell_type": "code",
   "execution_count": 4,
   "metadata": {},
   "outputs": [
    {
     "name": "stdout",
     "output_type": "stream",
     "text": [
      "(5 + 6j) + (5 + 6j) =  (15+14j)\n",
      "(5 + 6j) + (5 + 6j) =  (-5-2j)\n",
      "(5 + 6j) * (5 + 6j) =  (2+100j)\n",
      "(5 + 6j) / (5 + 6j) =  (0.5975609756097562+0.12195121951219513j)\n"
     ]
    }
   ],
   "source": [
    "complex1 =  5 + 6j\n",
    "complex2 = 10 + 8j\n",
    "\n",
    "complex3 = complex1 + complex2\n",
    "print(\"(5 + 6j) + (5 + 6j) = \", complex3)\n",
    "\n",
    "complex3 = complex1 - complex2\n",
    "print(\"(5 + 6j) + (5 + 6j) = \", complex3)\n",
    "\n",
    "complex3 = complex1 * complex2\n",
    "print(\"(5 + 6j) * (5 + 6j) = \", complex3)\n",
    "\n",
    "complex3 = complex1 / complex2\n",
    "print(\"(5 + 6j) / (5 + 6j) = \", complex3)"
   ]
  },
  {
   "cell_type": "raw",
   "metadata": {},
   "source": [
    "Question 2 :Research on range() functions and its parameters. Create a markdown cell and write in your ownwords (no copy-paste from google please) what you understand about it. Implement a smallprogram of your choice on the same"
   ]
  },
  {
   "cell_type": "markdown",
   "metadata": {},
   "source": [
    "range(start, stop, step)\n",
    "\n",
    "The range() function returns a sequence of numbers, starting from 0 and increments by 1 and stops before a specified number.\n",
    "\n",
    "start      \tOptional. An integer number specifying at which position to start. Default is 0\n",
    "stop \t    Required. An integer number specifying at which position to stop (not included).\n",
    "step \t    Optional. An integer number specifying the incrementation. Default is 1"
   ]
  },
  {
   "cell_type": "code",
   "execution_count": 6,
   "metadata": {},
   "outputs": [
    {
     "name": "stdout",
     "output_type": "stream",
     "text": [
      "List of E1 Numbers from 0 to 50 are :\n",
      "0\n",
      "2\n",
      "4\n",
      "6\n",
      "8\n",
      "10\n",
      "12\n",
      "14\n",
      "16\n",
      "18\n",
      "20\n",
      "22\n",
      "24\n",
      "26\n",
      "28\n",
      "30\n",
      "32\n",
      "34\n",
      "36\n",
      "38\n",
      "40\n",
      "42\n",
      "44\n",
      "46\n",
      "48\n",
      "50\n"
     ]
    }
   ],
   "source": [
    "'''\n",
    "This program prints the Even number from 0 to 50\n",
    "'''\n",
    "\n",
    "print (\"List of E1 Numbers from 0 to 50 are :\")\n",
    "for i in range(51):\n",
    "    if i % 2 == 0:\n",
    "        print (i)"
   ]
  },
  {
   "cell_type": "raw",
   "metadata": {},
   "source": [
    "Question 3: Consider two numbers. Perform their subtraction and if the result of subtraction is greater than25, print their multiplication result else print their division result."
   ]
  },
  {
   "cell_type": "code",
   "execution_count": 11,
   "metadata": {},
   "outputs": [
    {
     "name": "stdout",
     "output_type": "stream",
     "text": [
      "num1 = 35 and num2 = 90\n",
      "35 * 90 =  3150\n",
      "\n",
      "num1 = 35 and num2 = 20\n",
      "35 / 20 =  1.75\n"
     ]
    }
   ],
   "source": [
    "num1 = 35\n",
    "num2 = 90\n",
    "\n",
    "print (\"num1 = {} and num2 = {}\". format(num1, num2))\n",
    "if num2 - num1 > 25 :\n",
    "    print (\"{} * {} = \" .format(num1, num2), num1 * num2)\n",
    "else:\n",
    "    print (\"{} / {} = \" .format(num1, num2), num1 / num2)\n",
    "    \n",
    "num1 = 35\n",
    "num2 = 20\n",
    "\n",
    "print (\"\\nnum1 = {} and num2 = {}\". format(num1, num2))\n",
    "if num2 - num1 > 25 :\n",
    "    print (\"{} * {} = \" .format(num1, num2), num1 * num2)\n",
    "else:\n",
    "    print (\"{} / {} = \" .format(num1, num2), num1 / num2)"
   ]
  },
  {
   "cell_type": "raw",
   "metadata": {},
   "source": [
    "Question 4:Consider a list of 10 elements of integer values. If the number in the list is divisible by 2, print theresult as \"square of that number minus 2\""
   ]
  },
  {
   "cell_type": "code",
   "execution_count": 22,
   "metadata": {},
   "outputs": [
    {
     "name": "stdout",
     "output_type": "stream",
     "text": [
      "Input List is =  [20, 35, 10, 6, 89, 90, 109, 110, 90, 18]\n",
      "20 is Divisible by 2 , (20)^2 - 2 =  398\n",
      "10 is Divisible by 2 , (10)^2 - 2 =  98\n",
      "6 is Divisible by 2 , (6)^2 - 2 =  34\n",
      "90 is Divisible by 2 , (90)^2 - 2 =  8098\n",
      "110 is Divisible by 2 , (110)^2 - 2 =  12098\n",
      "90 is Divisible by 2 , (90)^2 - 2 =  8098\n",
      "18 is Divisible by 2 , (18)^2 - 2 =  322\n"
     ]
    }
   ],
   "source": [
    "list1 = [20, 35, 10, 6, 89, 90, 109, 110, 90, 18]\n",
    "print (\"Input List is = \", list1)\n",
    "\n",
    "for i in list1:\n",
    "    if i % 2 == 0:\n",
    "        print(\"{} is Divisible by 2 , ({})^2 - 2 = \".format(i,i), (i**2)-2)"
   ]
  },
  {
   "cell_type": "raw",
   "metadata": {},
   "source": [
    "Question 5:Consider a list of 10 elements. Print all the elements in the list which are greater than 7 when thatnumber is divided 2."
   ]
  },
  {
   "cell_type": "code",
   "execution_count": 23,
   "metadata": {},
   "outputs": [
    {
     "name": "stdout",
     "output_type": "stream",
     "text": [
      "Input List is =  [20, 35, 10, 6, 89, 90, 109, 110, 90, 18]\n",
      "20\n",
      "10\n",
      "90\n",
      "110\n",
      "90\n",
      "18\n"
     ]
    }
   ],
   "source": [
    "lis1 = [12, 23, 42, 78, 23, 10, 78, 65,40,77]\n",
    "print (\"Input List is = \", list1)\n",
    "for i in list1:\n",
    "    if i > 7 and i % 2 == 0 :\n",
    "        print (i)"
   ]
  },
  {
   "cell_type": "code",
   "execution_count": null,
   "metadata": {},
   "outputs": [],
   "source": []
  }
 ],
 "metadata": {
  "kernelspec": {
   "display_name": "Python 3",
   "language": "python",
   "name": "python3"
  },
  "language_info": {
   "codemirror_mode": {
    "name": "ipython",
    "version": 3
   },
   "file_extension": ".py",
   "mimetype": "text/x-python",
   "name": "python",
   "nbconvert_exporter": "python",
   "pygments_lexer": "ipython3",
   "version": "3.7.6"
  }
 },
 "nbformat": 4,
 "nbformat_minor": 4
}
