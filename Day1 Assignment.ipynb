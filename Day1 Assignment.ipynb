{
 "cells": [
  {
   "cell_type": "markdown",
   "metadata": {},
   "source": [
    "Question 1 :Write a program to subtract two complex numbers in Python"
   ]
  },
  {
   "cell_type": "code",
   "execution_count": 1,
   "metadata": {},
   "outputs": [
    {
     "name": "stdout",
     "output_type": "stream",
     "text": [
      "10+25j - 5+8J =  (5+17j)\n"
     ]
    }
   ],
   "source": [
    "a = 10+25j\n",
    "b = 5+8J\n",
    "\n",
    "c= a-b\n",
    "\n",
    "print (\"10+25j - 5+8J = \", c)"
   ]
  },
  {
   "cell_type": "markdown",
   "metadata": {},
   "source": [
    "Question 2 :Write a program to find the fourth root of a number."
   ]
  },
  {
   "cell_type": "code",
   "execution_count": 5,
   "metadata": {},
   "outputs": [
    {
     "name": "stdout",
     "output_type": "stream",
     "text": [
      "Fourth root of  16  is  2.0\n"
     ]
    }
   ],
   "source": [
    "a = 16\n",
    "b = 16 ** 0.25\n",
    "print (\"Fourth root of \", a , \" is \",b )"
   ]
  },
  {
   "cell_type": "markdown",
   "metadata": {},
   "source": [
    "Question 3:Write a program to swap two numbers in Python with the help of a temporary variable."
   ]
  },
  {
   "cell_type": "code",
   "execution_count": 6,
   "metadata": {},
   "outputs": [
    {
     "name": "stdout",
     "output_type": "stream",
     "text": [
      "Before Swap \n",
      " Number 1 =  20 Number 2 = 30\n",
      "After Swap \n",
      " Number 1 =  30 Number 2 = 20\n"
     ]
    }
   ],
   "source": [
    "num1 = 20\n",
    "num2 = 30\n",
    "\n",
    "print (\"Before Swap \\n Number 1 = \",num1,\"Number 2 =\",num2)\n",
    "temp = num1\n",
    "num1 = num2\n",
    "num2 = temp\n",
    "print (\"After Swap \\n Number 1 = \",num1,\"Number 2 =\",num2)"
   ]
  },
  {
   "cell_type": "markdown",
   "metadata": {},
   "source": [
    "Question 5:Write a program to convert fahrenheit to kelvin and celsius both."
   ]
  },
  {
   "cell_type": "code",
   "execution_count": 11,
   "metadata": {},
   "outputs": [
    {
     "name": "stdout",
     "output_type": "stream",
     "text": [
      "Temperature in Fahrenheit =  98.7\n",
      "Temperature in Kelvin =  310.21\n",
      "Temperature in Celsius =  37.06\n"
     ]
    }
   ],
   "source": [
    "temp_in_fahrenheit = 98.7\n",
    "temp_in_kelvin = 0.0\n",
    "temp_in_celsius = 0.0\n",
    "\n",
    "temp_in_kelvin = (temp_in_fahrenheit - 32) * ( 5 / 9 ) + 273.15\n",
    "temp_in_celsius = (temp_in_fahrenheit - 32) * ( 5 / 9 )\n",
    "\n",
    "print (\"Temperature in Fahrenheit = \", temp_in_fahrenheit)\n",
    "print (\"Temperature in Kelvin = \" , round(temp_in_kelvin, 2))\n",
    "print (\"Temperature in Celsius = \", round(temp_in_celsius, 2))"
   ]
  },
  {
   "cell_type": "markdown",
   "metadata": {},
   "source": [
    "Question 6:Write a program to demonstrate all the available data types in Python. Hint: Use type() function"
   ]
  },
  {
   "cell_type": "code",
   "execution_count": 12,
   "metadata": {},
   "outputs": [
    {
     "name": "stdout",
     "output_type": "stream",
     "text": [
      "<class 'int'>\n",
      "<class 'float'>\n",
      "<class 'str'>\n",
      "<class 'tuple'>\n",
      "<class 'dict'>\n",
      "<class 'list'>\n"
     ]
    }
   ],
   "source": [
    "a = 10\n",
    "b = 2.0\n",
    "c = \"Sunil\"\n",
    "d = (1, 2, 3)\n",
    "e = {\"K1\" : \"Apple\", \"K2\":\"Boat\", \"K3\":\"cat\"}\n",
    "f = [23, 40, \"Sunil\"]\n",
    "\n",
    "print(type(a))\n",
    "print(type(b))\n",
    "print(type(c))\n",
    "print(type(d))\n",
    "print(type(e))\n",
    "print(type(f))"
   ]
  },
  {
   "cell_type": "markdown",
   "metadata": {},
   "source": [
    "Question 7:Create a Markdown cell in jupyter and list the steps discussed in the session by Dr. DarshanIngle sir to create Github profile and upload Githubs Assignment link."
   ]
  },
  {
   "cell_type": "markdown",
   "metadata": {},
   "source": [
    "1. Create a Github public repo and name it LetsUpgrade AI/ML\n",
    "2. Upload the files/solution in the repo in day wise manner.\n",
    "3. Upload the files/solution in the repo in day wise manner."
   ]
  },
  {
   "cell_type": "code",
   "execution_count": null,
   "metadata": {},
   "outputs": [],
   "source": [
    "pwd"
   ]
  }
 ],
 "metadata": {
  "kernelspec": {
   "display_name": "Python 3",
   "language": "python",
   "name": "python3"
  },
  "language_info": {
   "codemirror_mode": {
    "name": "ipython",
    "version": 3
   },
   "file_extension": ".py",
   "mimetype": "text/x-python",
   "name": "python",
   "nbconvert_exporter": "python",
   "pygments_lexer": "ipython3",
   "version": "3.7.6"
  }
 },
 "nbformat": 4,
 "nbformat_minor": 4
}
