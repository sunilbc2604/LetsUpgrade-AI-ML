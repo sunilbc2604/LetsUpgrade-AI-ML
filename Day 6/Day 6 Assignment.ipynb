{
 "cells": [
  {
   "cell_type": "raw",
   "metadata": {},
   "source": [
    "Question 1:Assuming that we have some email addresses in the \"username@companyname.com\" format, please write programto print the company name of a given email address. Both user names and company names are composed of lettersonly.\n",
    "\n",
    "Input Format:The first line of the input contains an email address.\n",
    "Output Format:Print the company name in single line.\n",
    "Example;Input:john@google.com\n",
    "Output:google"
   ]
  },
  {
   "cell_type": "markdown",
   "metadata": {},
   "source": [
    "partition( \tsep)\n",
    "    Split the string at the first occurrence of sep, and return a 3-tuple containing the part before the separator, the separator itself, and the part after the separator. If the separator is not found, return a 3-tuple containing the string itself, followed by two empty strings.\n"
   ]
  },
  {
   "cell_type": "code",
   "execution_count": 6,
   "metadata": {},
   "outputs": [
    {
     "name": "stdout",
     "output_type": "stream",
     "text": [
      "Please enter the Email ID = Sunilbc2604@apple.com\n",
      "Output =  apple\n"
     ]
    }
   ],
   "source": [
    "emial_id = input(\"Please enter the Email ID = \")\n",
    "\n",
    "username = emial_id.partition('@')[2]\n",
    "companyname = username.partition('.')[0]\n",
    "print (\"Output = \", companyname)"
   ]
  },
  {
   "cell_type": "raw",
   "metadata": {},
   "source": [
    "Question 2:Write a program that accepts a comma-separated sequence of words as input and prints the words in a commaseparated sequence after sorting them alphabetically.\n",
    "Input Format:The first line of input contains words separated by the comma.\n",
    "Output Format:Print the sorted words separated by the comma.\n",
    "Example:Input:without,hello,bag,world\n",
    "Output:bag,hello,without,world"
   ]
  },
  {
   "cell_type": "markdown",
   "metadata": {},
   "source": [
    "split( \t[sep [,maxsplit]])\n",
    "    Return a list of the words in the string, using sep as the delimiter string. If maxsplit is given, at most maxsplit splits are done. \n",
    "\n",
    "Ex :\"without,hello,bag,world\".split(\",')\n",
    "Output = ['without','hello','bag','world']\n",
    "\n",
    "join( \tseq)\n",
    "    Return a string which is the concatenation of the strings in the sequence seq. The separator between elements is the string providing this method. "
   ]
  },
  {
   "cell_type": "code",
   "execution_count": 11,
   "metadata": {},
   "outputs": [
    {
     "name": "stdout",
     "output_type": "stream",
     "text": [
      "Please provide the input: without,hello,bag,world\n",
      "Output =  bag,hello,without,world\n"
     ]
    }
   ],
   "source": [
    "input_string = input(\"Please provide the input: \")\n",
    "input_list = input_string.split(',')\n",
    "input_list.sort()\n",
    "print(\"Output = \", \",\".join(input_list))"
   ]
  },
  {
   "cell_type": "raw",
   "metadata": {},
   "source": [
    "Question 3:Create your own Jupyter Notebook for Sets.Reference link: https://www.w3schools.com/python/python_sets.asp"
   ]
  },
  {
   "cell_type": "code",
   "execution_count": 14,
   "metadata": {},
   "outputs": [
    {
     "name": "stdout",
     "output_type": "stream",
     "text": [
      "{'Anil', 'Lalitha', 'Sunil'}\n"
     ]
    }
   ],
   "source": [
    "thisset = {\"Sunil\", \"Anil\", \"Lalitha\", \"Sunil\"}\n",
    "print(thisset) "
   ]
  },
  {
   "cell_type": "code",
   "execution_count": 16,
   "metadata": {},
   "outputs": [
    {
     "name": "stdout",
     "output_type": "stream",
     "text": [
      "True\n",
      "False\n"
     ]
    }
   ],
   "source": [
    "thisset = {\"Sunil\", \"Anil\", \"Lalitha\", \"Sunil\"}\n",
    "\n",
    "print(\"Anil\" in thisset) \n",
    "print(\"Ram\" in thisset)"
   ]
  },
  {
   "cell_type": "code",
   "execution_count": 31,
   "metadata": {},
   "outputs": [
    {
     "name": "stdout",
     "output_type": "stream",
     "text": [
      "{'Anil', 'Rajesh', 'Lalitha', 'Sunil'}\n",
      "Lenght of thisset =  4\n",
      "thisset Type =  <class 'set'>\n",
      "{'Anil', 'Rajesh', 'Lalitha', 'Sunil'}\n",
      "Last Element of set =  Anil\n",
      "{'Rajesh', 'Lalitha', 'Sunil'}\n"
     ]
    }
   ],
   "source": [
    "thisset = {\"Sunil\", \"Anil\", \"Lalitha\", \"Sunil\"}\n",
    "thisset.add(\"Rajesh\")\n",
    "print(thisset)\n",
    "print(\"Lenght of thisset = \",len(thisset))\n",
    "print(\"thisset Type = \", type(thisset))\n",
    "thisset.add(\"Rajesh\")\n",
    "print(thisset)\n",
    "last_elment = thisset.pop()\n",
    "print(\"Last Element of set = \",last_elment)\n",
    "print(thisset)"
   ]
  },
  {
   "cell_type": "code",
   "execution_count": 32,
   "metadata": {},
   "outputs": [
    {
     "name": "stdout",
     "output_type": "stream",
     "text": [
      "{'Jhon', 'Adam', 'Lalitha', 'Brian', 'Anil', 'Cliff', 'Sunil'}\n"
     ]
    }
   ],
   "source": [
    "thisset = {\"Sunil\", \"Anil\", \"Lalitha\", \"Sunil\"}\n",
    "thatset = {\"Adam\",\"Brian\",\"Jhon\",\"Cliff\"}\n",
    "print(thisset.union(thatset))"
   ]
  },
  {
   "cell_type": "raw",
   "metadata": {},
   "source": [
    "Question 4:Given a list of n-1 numbers ranging from 1 to n, your task is to find the missing number. There are no duplicates.\n",
    "Input Format:Thinput_stringe first line contains n-1 numbers with each number separated by a space.\n",
    "Output Format:Print the missing number\n",
    "Example:Input:1 2 4 6 3 7 8\n",
    "Output:5\n",
    "Explanation:In the above list of numbers 5 is missing and hence 5 is the input"
   ]
  },
  {
   "cell_type": "markdown",
   "metadata": {},
   "source": []
  },
  {
   "cell_type": "code",
   "execution_count": 4,
   "metadata": {},
   "outputs": [
    {
     "name": "stdout",
     "output_type": "stream",
     "text": [
      "Please enter the list of numbers, I will give you the missing number : 1 2 4 6 3 7 8\n",
      "Missing Number is =  5\n"
     ]
    }
   ],
   "source": [
    "input_String = input(\"Please enter the list of numbers, I will give you the missing number : \")\n",
    "input_list = input_String.split(\" \")\n",
    "input_list.sort()\n",
    "\n",
    "x=1\n",
    "for item in input_list:\n",
    "    if not x == int(item):\n",
    "        print(\"Missing Number is = \", x)\n",
    "        break\n",
    "    else:\n",
    "        x = x+1\n",
    "        continue"
   ]
  },
  {
   "cell_type": "raw",
   "metadata": {},
   "source": [
    "Question 5:With a given list L, write a program to print this list L after removing all duplicate values with original order reserved.\n",
    "Example:If the input list is 12 24 35 24 88 120 155 88 120 155 Then the output should be 12 24 35 88 120 155\n",
    "\n",
    "Explanation:Third, seventh and ninth element of the list L has been removed because it was already present.\n",
    "\n",
    "Input Format:In one line take the elements of the list L with each element separated by a space.\n",
    "Output Format:Print the elements of the modified list in one line with each element separated by a space.\n",
    "Example:Input: 12 24 35 24\n",
    "Output:12 24 35"
   ]
  },
  {
   "cell_type": "code",
   "execution_count": null,
   "metadata": {},
   "outputs": [],
   "source": []
  },
  {
   "cell_type": "code",
   "execution_count": 34,
   "metadata": {},
   "outputs": [
    {
     "name": "stdout",
     "output_type": "stream",
     "text": [
      "Please enter the list of number sperated by space12 24 35 24 88 120 155 88 120 155\n",
      "Output List =  12 24 35 88 120 155\n"
     ]
    }
   ],
   "source": [
    "input_String = input(\"Please enter the list of number sperated by space\")\n",
    "input_list = input_String.split(\" \")\n",
    "\n",
    "index_to_be_deleted = []\n",
    "\n",
    "for item1 in input_list:\n",
    "    delete_index = 0;\n",
    "    duplicate_count = 0\n",
    "    for item2 in input_list:\n",
    "        if item2 == item1:\n",
    "            duplicate_count = duplicate_count + 1\n",
    "            if (duplicate_count >=2 ):\n",
    "                index_to_be_deleted.append(delete_index)\n",
    "                continue\n",
    "        delete_index = delete_index + 1\n",
    "\n",
    "\n",
    "#print(index_to_be_deleted)\n",
    "index_to_be_deleted = set(index_to_be_deleted)\n",
    "index_to_be_deleted = list (index_to_be_deleted)\n",
    "index_to_be_deleted.sort()\n",
    "#print(index_to_be_deleted)\n",
    "\n",
    "outtput_list = []\n",
    "index_position = 0\n",
    "for index_position in range(len(input_list)):\n",
    "    if index_position in index_to_be_deleted :\n",
    "        continue\n",
    "    else:\n",
    "        outtput_list.append(input_list[index_position])\n",
    "    index_position = index_position + 1\n",
    "\n",
    "print(\"Output List = \", \" \".join(outtput_list))"
   ]
  },
  {
   "cell_type": "code",
   "execution_count": null,
   "metadata": {},
   "outputs": [],
   "source": []
  }
 ],
 "metadata": {
  "kernelspec": {
   "display_name": "Python 3",
   "language": "python",
   "name": "python3"
  },
  "language_info": {
   "codemirror_mode": {
    "name": "ipython",
    "version": 3
   },
   "file_extension": ".py",
   "mimetype": "text/x-python",
   "name": "python",
   "nbconvert_exporter": "python",
   "pygments_lexer": "ipython3",
   "version": "3.7.6"
  }
 },
 "nbformat": 4,
 "nbformat_minor": 4
}
