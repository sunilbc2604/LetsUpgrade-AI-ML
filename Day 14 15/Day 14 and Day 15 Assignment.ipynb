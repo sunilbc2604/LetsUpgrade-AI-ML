{
 "cells": [
  {
   "cell_type": "markdown",
   "metadata": {},
   "source": [
    "# 1. Create a 3x3x3 array with random values "
   ]
  },
  {
   "cell_type": "code",
   "execution_count": 10,
   "metadata": {},
   "outputs": [
    {
     "name": "stdout",
     "output_type": "stream",
     "text": [
      "[[11 18 13]\n",
      " [42 35 47]\n",
      " [77 75 72]]\n"
     ]
    }
   ],
   "source": [
    "import numpy as np\n",
    "import random\n",
    "array = np.array([random.sample(range(10,30),3),random.sample(range(30,60),3),random.sample(range(60,90),3)])\n",
    "print(array)"
   ]
  },
  {
   "cell_type": "markdown",
   "metadata": {},
   "source": [
    "# 2.Create a 5x5 matrix with values 1,2,3,4 just below the diagonal"
   ]
  },
  {
   "cell_type": "code",
   "execution_count": 12,
   "metadata": {},
   "outputs": [
    {
     "name": "stdout",
     "output_type": "stream",
     "text": [
      "[[0 0 0 0 0]\n",
      " [1 0 0 0 0]\n",
      " [1 2 0 0 0]\n",
      " [1 2 3 0 0]\n",
      " [1 2 3 0 0]\n",
      " [1 2 3 4 0]]\n"
     ]
    }
   ],
   "source": [
    "array = np.array([[0,0,0,0,0],[1,0,0,0,0],[1,2,0,0,0],[1,2,3,0,0],[1,2,3,0,0],[1,2,3,4,0]])\n",
    "print(array)"
   ]
  },
  {
   "cell_type": "markdown",
   "metadata": {},
   "source": [
    "# 3.Create a 8x8 matrix and fill it with a checkerboard pattern"
   ]
  },
  {
   "cell_type": "code",
   "execution_count": 24,
   "metadata": {},
   "outputs": [
    {
     "name": "stdout",
     "output_type": "stream",
     "text": [
      "[[1 0 1 0 1 0 1 0]\n",
      " [0 1 0 1 0 1 0 1]\n",
      " [1 0 1 0 1 0 1 0]\n",
      " [0 1 0 1 0 1 0 1]\n",
      " [1 0 1 0 1 0 1 0]\n",
      " [0 1 0 1 0 1 0 1]\n",
      " [1 0 1 0 1 0 1 0]\n",
      " [0 1 0 1 0 1 0 1]]\n"
     ]
    }
   ],
   "source": [
    "import numpy as np\n",
    "array_8_8 = np.zeros((8,8),dtype=int)\n",
    "array_8_8[::2,::2]=1\n",
    "array_8_8[1::2,1::2]=1\n",
    "print(array_8_8)"
   ]
  },
  {
   "cell_type": "markdown",
   "metadata": {},
   "source": [
    "# 4. Normalize a 5x5 random matrix"
   ]
  },
  {
   "cell_type": "code",
   "execution_count": 35,
   "metadata": {},
   "outputs": [
    {
     "name": "stdout",
     "output_type": "stream",
     "text": [
      "[[0.1191749  0.70516844 0.92162711 0.92425269 0.08911452]\n",
      " [0.62235215 0.96360166 0.9570395  0.26457377 0.93437144]\n",
      " [0.52267455 0.33512767 0.54371588 0.18149528 0.14197312]\n",
      " [0.71237956 0.40989082 0.40812059 0.14709654 0.45988073]\n",
      " [0.71904269 0.53329789 0.36824992 0.44779535 0.2226298 ]]\n",
      "0.08911452220654192 0.9636016593532514\n",
      "---AFTER NORMALIZATION ---\n",
      "[[ 0.01727     0.60326354  0.81972222  0.82234779 -0.01279038]\n",
      " [ 0.52044725  0.86169676  0.8551346   0.16266887  0.83246655]\n",
      " [ 0.42076965  0.23322277  0.44181098  0.07959038  0.04006822]\n",
      " [ 0.61047466  0.30798592  0.3062157   0.04519164  0.35797583]\n",
      " [ 0.61713779  0.431393    0.26634502  0.34589045  0.1207249 ]]\n"
     ]
    }
   ],
   "source": [
    "array = np.random.random((5,5))\n",
    "print(array)\n",
    "array_min, array_max = array.min(),array.max()\n",
    "print(array_min,array_max)\n",
    "array = array - array_min /(array_max - array_min)\n",
    "print(\"---AFTER NORMALIZATION ---\")\n",
    "print(array)"
   ]
  },
  {
   "cell_type": "markdown",
   "metadata": {},
   "source": [
    "# 5.  How to find common values between two arrays?"
   ]
  },
  {
   "cell_type": "code",
   "execution_count": 56,
   "metadata": {},
   "outputs": [
    {
     "name": "stdout",
     "output_type": "stream",
     "text": [
      "[ 0 11  3  1  8  5  6 17  3 17]\n",
      "[ 3  1  7  8  7 12 11  6 10 10]\n",
      "[ 1  3  6  8 11]\n"
     ]
    }
   ],
   "source": [
    "Z1 = np.random.randint(0,20,10)\n",
    "print(Z1)\n",
    "Z2 = np.random.randint(0,20,10)\n",
    "print(Z2)\n",
    "print(np.intersect1d(Z1,Z2))"
   ]
  },
  {
   "cell_type": "markdown",
   "metadata": {},
   "source": [
    "# 6.How to get the dates of yesterday, today and tomorrow?"
   ]
  },
  {
   "cell_type": "code",
   "execution_count": 57,
   "metadata": {},
   "outputs": [
    {
     "name": "stdout",
     "output_type": "stream",
     "text": [
      "TODAY :  2020-08-18\n",
      "YESTERDAY :  2020-08-17\n",
      "TOMORROW :  2020-08-19\n"
     ]
    }
   ],
   "source": [
    "import datetime\n",
    "\n",
    "today = datetime.date.today()\n",
    "yesterday = today - datetime.timedelta(days=1)\n",
    "tomorrow = today + datetime.timedelta(days=1)\n",
    "\n",
    "print(\"TODAY : \", today)\n",
    "print(\"YESTERDAY : \", yesterday)\n",
    "print(\"TOMORROW : \", tomorrow)"
   ]
  },
  {
   "cell_type": "markdown",
   "metadata": {},
   "source": [
    "# 7. Consider two random array A and B, check if they are equal"
   ]
  },
  {
   "cell_type": "code",
   "execution_count": 72,
   "metadata": {},
   "outputs": [
    {
     "name": "stdout",
     "output_type": "stream",
     "text": [
      "False\n",
      "False\n"
     ]
    }
   ],
   "source": [
    "A = np.random.randint(0,2,5)\n",
    "B = np.random.randint(0,2,5)\n",
    "\n",
    "# Assuming identical shape of the arrays and a tolerance for the comparison of values\n",
    "equal = np.allclose(A,B)\n",
    "print(equal)\n",
    "\n",
    "# Checking both the shape and the element values, no tolerance (values have to be exactly equal)\n",
    "equal = np.array_equal(A,B)\n",
    "print(equal)"
   ]
  },
  {
   "cell_type": "markdown",
   "metadata": {},
   "source": [
    "# 8.Create random vector of size 10 and replace the maximum value by 0 "
   ]
  },
  {
   "cell_type": "code",
   "execution_count": 95,
   "metadata": {},
   "outputs": [
    {
     "name": "stdout",
     "output_type": "stream",
     "text": [
      "[0.66036511 0.7942239  0.22904475 0.94665151 0.23976927 0.11386044\n",
      " 0.34793226 0.97757604 0.83857695 0.6955041 ]\n",
      "[0.66036511 0.7942239  0.22904475 0.94665151 0.23976927 0.11386044\n",
      " 0.34793226 0.         0.83857695 0.6955041 ]\n"
     ]
    }
   ],
   "source": [
    "Z = np.random.random(10)\n",
    "print(Z)\n",
    "Z[Z.argmax()] = 0\n",
    "print(Z)"
   ]
  },
  {
   "cell_type": "markdown",
   "metadata": {},
   "source": [
    "# 9. How to print all the values of an array?"
   ]
  },
  {
   "cell_type": "code",
   "execution_count": 97,
   "metadata": {},
   "outputs": [
    {
     "name": "stdout",
     "output_type": "stream",
     "text": [
      "[[0. 0. 0. 0. 0. 0. 0. 0. 0. 0. 0. 0. 0. 0. 0. 0.]\n",
      " [0. 0. 0. 0. 0. 0. 0. 0. 0. 0. 0. 0. 0. 0. 0. 0.]\n",
      " [0. 0. 0. 0. 0. 0. 0. 0. 0. 0. 0. 0. 0. 0. 0. 0.]\n",
      " [0. 0. 0. 0. 0. 0. 0. 0. 0. 0. 0. 0. 0. 0. 0. 0.]\n",
      " [0. 0. 0. 0. 0. 0. 0. 0. 0. 0. 0. 0. 0. 0. 0. 0.]\n",
      " [0. 0. 0. 0. 0. 0. 0. 0. 0. 0. 0. 0. 0. 0. 0. 0.]\n",
      " [0. 0. 0. 0. 0. 0. 0. 0. 0. 0. 0. 0. 0. 0. 0. 0.]\n",
      " [0. 0. 0. 0. 0. 0. 0. 0. 0. 0. 0. 0. 0. 0. 0. 0.]\n",
      " [0. 0. 0. 0. 0. 0. 0. 0. 0. 0. 0. 0. 0. 0. 0. 0.]\n",
      " [0. 0. 0. 0. 0. 0. 0. 0. 0. 0. 0. 0. 0. 0. 0. 0.]\n",
      " [0. 0. 0. 0. 0. 0. 0. 0. 0. 0. 0. 0. 0. 0. 0. 0.]\n",
      " [0. 0. 0. 0. 0. 0. 0. 0. 0. 0. 0. 0. 0. 0. 0. 0.]\n",
      " [0. 0. 0. 0. 0. 0. 0. 0. 0. 0. 0. 0. 0. 0. 0. 0.]\n",
      " [0. 0. 0. 0. 0. 0. 0. 0. 0. 0. 0. 0. 0. 0. 0. 0.]\n",
      " [0. 0. 0. 0. 0. 0. 0. 0. 0. 0. 0. 0. 0. 0. 0. 0.]\n",
      " [0. 0. 0. 0. 0. 0. 0. 0. 0. 0. 0. 0. 0. 0. 0. 0.]]\n"
     ]
    }
   ],
   "source": [
    "np.set_printoptions(threshold=float(\"inf\"))\n",
    "Z = np.zeros((16,16))\n",
    "print(Z)"
   ]
  },
  {
   "cell_type": "markdown",
   "metadata": {},
   "source": [
    "# 10.Subtract the mean of each row of a matrix"
   ]
  },
  {
   "cell_type": "code",
   "execution_count": 98,
   "metadata": {},
   "outputs": [
    {
     "name": "stdout",
     "output_type": "stream",
     "text": [
      "[[-0.25296634  0.20758613  0.01539349 -0.2788872  -0.52688159  0.15696923\n",
      "   0.11478281  0.25518253  0.18978446  0.11903649]\n",
      " [-0.31618732  0.3487186  -0.52140887  0.41756414 -0.27240699 -0.04038697\n",
      "   0.1372625  -0.08215654  0.04591858  0.28308287]\n",
      " [ 0.0257884   0.38235016 -0.20916558 -0.03304764 -0.08197782  0.1180229\n",
      "  -0.30910513 -0.05786373 -0.04701127  0.21200972]\n",
      " [-0.22825562  0.12996503 -0.15046087  0.02560797  0.18893593  0.16184785\n",
      "   0.00647918 -0.37730748 -0.17927597  0.42246397]\n",
      " [ 0.32944899  0.03349044 -0.30285652 -0.33627342 -0.09734409  0.33019512\n",
      "  -0.22561211  0.46606676  0.21523807 -0.41235323]]\n",
      "[[-0.25296634  0.20758613  0.01539349 -0.2788872  -0.52688159  0.15696923\n",
      "   0.11478281  0.25518253  0.18978446  0.11903649]\n",
      " [-0.31618732  0.3487186  -0.52140887  0.41756414 -0.27240699 -0.04038697\n",
      "   0.1372625  -0.08215654  0.04591858  0.28308287]\n",
      " [ 0.0257884   0.38235016 -0.20916558 -0.03304764 -0.08197782  0.1180229\n",
      "  -0.30910513 -0.05786373 -0.04701127  0.21200972]\n",
      " [-0.22825562  0.12996503 -0.15046087  0.02560797  0.18893593  0.16184785\n",
      "   0.00647918 -0.37730748 -0.17927597  0.42246397]\n",
      " [ 0.32944899  0.03349044 -0.30285652 -0.33627342 -0.09734409  0.33019512\n",
      "  -0.22561211  0.46606676  0.21523807 -0.41235323]]\n"
     ]
    }
   ],
   "source": [
    "X = np.random.rand(5, 10)\n",
    "\n",
    "# Recent versions of numpy\n",
    "Y = X - X.mean(axis=1, keepdims=True)\n",
    "\n",
    "# Older versions of numpy\n",
    "Y1 = X - X.mean(axis=1).reshape(-1, 1)\n",
    "\n",
    "print(Y)\n",
    "print(Y1)"
   ]
  },
  {
   "cell_type": "markdown",
   "metadata": {},
   "source": [
    "# 11.Consider a given vector, how to add 1 to each element indexed by a second vector (be careful with repeated indices)? "
   ]
  },
  {
   "cell_type": "code",
   "execution_count": 99,
   "metadata": {},
   "outputs": [
    {
     "name": "stdout",
     "output_type": "stream",
     "text": [
      "[4. 2. 3. 6. 2. 3. 4. 2. 3. 1.]\n"
     ]
    }
   ],
   "source": [
    "Z = np.ones(10)\n",
    "I = np.random.randint(0,len(Z),20)\n",
    "Z += np.bincount(I, minlength=len(Z))\n",
    "print(Z)"
   ]
  },
  {
   "cell_type": "code",
   "execution_count": 100,
   "metadata": {},
   "outputs": [
    {
     "name": "stdout",
     "output_type": "stream",
     "text": [
      "[ 7.  3.  5. 11.  3.  5.  7.  3.  5.  1.]\n"
     ]
    }
   ],
   "source": [
    "np.add.at(Z, I, 1)\n",
    "print(Z)"
   ]
  },
  {
   "cell_type": "markdown",
   "metadata": {},
   "source": [
    "# 12.How to get the diagonal of a dot product?"
   ]
  },
  {
   "cell_type": "code",
   "execution_count": 101,
   "metadata": {},
   "outputs": [
    {
     "name": "stdout",
     "output_type": "stream",
     "text": [
      "[[0.95356947 0.3695933  0.32202127 0.73148606 0.43484531]\n",
      " [0.2999362  0.58710845 0.2290718  0.81473721 0.48349097]\n",
      " [0.23229864 0.261587   0.08620578 0.57315367 0.33142678]\n",
      " [0.3410863  0.44326368 0.70094993 0.90520419 0.5444956 ]\n",
      " [0.28979959 0.75543542 0.47309675 0.69760989 0.72500812]]\n",
      "[[0.3289367  0.79305058 0.27818035 0.59473965 0.94556292]\n",
      " [0.15840777 0.75621676 0.13153116 0.55077242 0.90869473]\n",
      " [0.28031473 0.30281316 0.63793661 0.35890714 0.0014926 ]\n",
      " [0.34165934 0.13523558 0.75212142 0.0816839  0.74489412]\n",
      " [0.23455654 0.49788303 0.03639224 0.3536916  0.56305646]]\n",
      "diagonal of a dot product method 1 is.... [0.8143926  1.1021152  0.5971641  0.96509502 1.88905608]\n",
      "diagonal of a dot product method 2 is.... [0.8143926  1.1021152  0.5971641  0.96509502 1.88905608]\n"
     ]
    }
   ],
   "source": [
    "A = np.random.uniform(0,1,(5,5))\n",
    "B = np.random.uniform(0,1,(5,5))\n",
    "print(A)\n",
    "print(B)\n",
    "# Slow version\n",
    "prod1=np.diag(np.dot(A, B))\n",
    "\n",
    "# Fast version\n",
    "prod2=np.sum(A * B.T, axis=1)\n",
    "\n",
    "print(\"diagonal of a dot product method 1 is....\",prod1)\n",
    "print(\"diagonal of a dot product method 2 is....\",prod2)"
   ]
  },
  {
   "cell_type": "markdown",
   "metadata": {},
   "source": [
    "# 13.How to find the most frequent value in an array?"
   ]
  },
  {
   "cell_type": "code",
   "execution_count": 102,
   "metadata": {},
   "outputs": [
    {
     "name": "stdout",
     "output_type": "stream",
     "text": [
      "[4 7 9 7 9 6 0 5 5 9 6 6 0 2 9 6 1 7 1 9 9 2 3 9 2 0 9 6 9 9 6 5 9 6 9 1 1\n",
      " 3 4 7 2 1 9 9 4 8 5 2 1 1]\n",
      "9\n"
     ]
    }
   ],
   "source": [
    "Z = np.random.randint(0,10,50)\n",
    "print(Z)\n",
    "print(np.bincount(Z).argmax())"
   ]
  },
  {
   "cell_type": "markdown",
   "metadata": {},
   "source": [
    "# 14.How to get the n largest values of an array"
   ]
  },
  {
   "cell_type": "code",
   "execution_count": 103,
   "metadata": {},
   "outputs": [
    {
     "name": "stdout",
     "output_type": "stream",
     "text": [
      "[9995 9996 9997 9998 9999]\n"
     ]
    }
   ],
   "source": [
    "Z = np.arange(10000)\n",
    "np.random.shuffle(Z)\n",
    "n = 5\n",
    "\n",
    "\n",
    "print (Z[np.argsort(Z)[-n:]])"
   ]
  },
  {
   "cell_type": "markdown",
   "metadata": {},
   "source": [
    "# 15.How to create a record array from a regular array?"
   ]
  },
  {
   "cell_type": "code",
   "execution_count": 104,
   "metadata": {},
   "outputs": [
    {
     "name": "stdout",
     "output_type": "stream",
     "text": [
      "[(b'Hello', 2.5, 3) (b'World', 3.6, 2)]\n"
     ]
    }
   ],
   "source": [
    "Z = np.array([(\"Hello\", 2.5, 3),\n",
    "              (\"World\", 3.6, 2)])\n",
    "R = np.core.records.fromarrays(Z.T,\n",
    "                               names='col1, col2, col3',\n",
    "                               formats = 'S8, f8, i8')\n",
    "print(R)"
   ]
  },
  {
   "cell_type": "code",
   "execution_count": null,
   "metadata": {},
   "outputs": [],
   "source": []
  }
 ],
 "metadata": {
  "kernelspec": {
   "display_name": "Python 3",
   "language": "python",
   "name": "python3"
  },
  "language_info": {
   "codemirror_mode": {
    "name": "ipython",
    "version": 3
   },
   "file_extension": ".py",
   "mimetype": "text/x-python",
   "name": "python",
   "nbconvert_exporter": "python",
   "pygments_lexer": "ipython3",
   "version": "3.7.6"
  }
 },
 "nbformat": 4,
 "nbformat_minor": 2
}
