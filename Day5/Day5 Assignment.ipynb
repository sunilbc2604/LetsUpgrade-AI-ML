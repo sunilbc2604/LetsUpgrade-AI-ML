{
 "cells": [
  {
   "cell_type": "raw",
   "metadata": {},
   "source": [
    "Write a Python program to find the first 20 non-even prime natural numbers."
   ]
  },
  {
   "cell_type": "code",
   "execution_count": 5,
   "metadata": {},
   "outputs": [
    {
     "name": "stdout",
     "output_type": "stream",
     "text": [
      "List of first 20 non-even prime numbers is = \n",
      "3\n",
      "5\n",
      "7\n",
      "11\n",
      "13\n",
      "17\n",
      "19\n",
      "23\n",
      "29\n",
      "31\n",
      "37\n",
      "41\n",
      "43\n",
      "47\n",
      "53\n",
      "59\n",
      "61\n",
      "67\n",
      "71\n",
      "73\n"
     ]
    }
   ],
   "source": [
    "'''\n",
    "Program that prints the first 20 non-even natural numbers\n",
    "'''\n",
    "\n",
    "no_of_non_even_prime_Numbers = 0\n",
    "is_prime = 0\n",
    "number = 3\n",
    "\n",
    "print(\"List of first 20 non-even prime numbers is = \")\n",
    "while no_of_non_even_prime_Numbers < 20 :\n",
    "    is_prime = 1\n",
    "    for i in range (2,number):\n",
    "        if(number % i == 0):\n",
    "            is_prime = 0\n",
    "            break\n",
    "    if is_prime == 1:\n",
    "        if not number % 2 == 0:\n",
    "            print(number)\n",
    "            no_of_non_even_prime_Numbers = no_of_non_even_prime_Numbers + 1\n",
    "    number = number + 1"
   ]
  },
  {
   "cell_type": "raw",
   "metadata": {},
   "source": [
    "Write a Python program to implement 15 functions of string."
   ]
  },
  {
   "cell_type": "code",
   "execution_count": 43,
   "metadata": {},
   "outputs": [
    {
     "name": "stdout",
     "output_type": "stream",
     "text": [
      "LETS UPGRADE\n",
      "lets upgrade with darshan ingle\n",
      "True\n",
      "True\n",
      "Lets Upgrade with Darshan ingle\n",
      "Lets upgrade with darshan ingle\n",
      "14\n",
      "False\n",
      "True\n",
      "True\n",
      "['Lets', 'Upgrade', 'with', 'Darshan', 'ingle']\n",
      "lETS uPGRADE WITH dARSHAN INGLE\n",
      "['Hello ', ' My Name is Sunil ', '  I Am from Bangalore']\n",
      "Date:12Jul:Year:2020:User:Sunil:Message:Failed\n",
      "Spacious           End of String\n",
      "Lets Downgrade with Darshan ingle\n"
     ]
    }
   ],
   "source": [
    "String1 = \"Lets Upgrade\"\n",
    "String2 = \"Lets Upgrade with Darshan ingle\"\n",
    "String3 = \"2604\"\n",
    "String4 = \"\\n\\t\\r\"\n",
    "String5 = \"Hi Lets Upgrade, My name is Sunil\"\n",
    "String6 = \"Date:12JUL:YEAR:2020:USER:SUNIL:MESSAGE:FAILED\"\n",
    "String7 = \"Hello \\n My Name is Sunil \\n  I Am from Bangalore\"\n",
    "String8 = '        Spacious           End of String'\n",
    "\n",
    "print (String1.upper())\n",
    "print (String2.lower())\n",
    "print (String1.startswith(\"Lets\"))\n",
    "print (String2.endswith(\"ingle\"))\n",
    "print (String2.center(20))\n",
    "print (String2.capitalize())\n",
    "print (String2.find('it'))\n",
    "print (String3.isalpha())\n",
    "print (String3.isnumeric())\n",
    "print (String4.isspace()) #Returns true if there are only whitespace charaters\n",
    "print(String2.split())\n",
    "print(String2.swapcase())\n",
    "print(String7.splitlines())\n",
    "print(String6.title())\n",
    "print(String8.lstrip())\n",
    "print(String2.replace(\"Upgrade\", \"Downgrade\"))"
   ]
  },
  {
   "cell_type": "raw",
   "metadata": {},
   "source": [
    "Question 3:Write a Python program to check if the given string is a Palindrome or Anagram or None of them.Display the message accordingly to the user."
   ]
  },
  {
   "cell_type": "code",
   "execution_count": 20,
   "metadata": {},
   "outputs": [
    {
     "name": "stdout",
     "output_type": "stream",
     "text": [
      "MALAYALAM is a palindrome\n",
      "BINARY is a anagram of BRAINY\n",
      "KANNADA is not a palindrome\n",
      "KITCHEN is a not anagram of KICHEN\n"
     ]
    }
   ],
   "source": [
    "def check_paliandrome(str1):\n",
    "    reverse_string = str1[::-1]\n",
    "    if str1 == reverse_string:\n",
    "        print(\"{} is a palindrome\".format(str1))\n",
    "    else:\n",
    "        print(\"{} is not a palindrome\".format(str1))\n",
    "\n",
    "def check_anagram (str1, str2):\n",
    "    list1 = list(str1)\n",
    "    list2 = list(str2)\n",
    "    list1.sort()\n",
    "    list2.sort()\n",
    "    \n",
    "     \n",
    "    if list1 == list2:\n",
    "        print (\"{} is a anagram of {}\".format(str1, str2))\n",
    "    else:\n",
    "        print (\"{} is a not anagram of {}\".format(str1, str2))\n",
    "        \n",
    "\n",
    "check_paliandrome(\"MALAYALAM\")\n",
    "check_anagram(\"BINARY\", \"BRAINY\")\n",
    "check_paliandrome(\"KANNADA\")\n",
    "check_anagram(\"KITCHEN\",\"KICHEN\")"
   ]
  },
  {
   "cell_type": "raw",
   "metadata": {},
   "source": [
    "Question 4:Write a Python's user defined function that removes all the additional characters from the stringand converts it finally to lower case using built-in lower(). eg: If the string is \"Dr. Darshan Ingle@AI-ML Trainer\", then the output be \"drdarshaningleaimltrainer\"."
   ]
  },
  {
   "cell_type": "code",
   "execution_count": 32,
   "metadata": {},
   "outputs": [
    {
     "name": "stdout",
     "output_type": "stream",
     "text": [
      "Final Output =  drdarshaningleaimltrainer\n"
     ]
    }
   ],
   "source": [
    "def format_string(str1):\n",
    "    list1 = list(str1)\n",
    "    list2 = []\n",
    "    for character in list1:\n",
    "        if character.isalnum():\n",
    "            list2.append(character)\n",
    "    \n",
    "    final_string = \"\".join(list2)\n",
    "    print (\"Final Output = \", final_string.lower())\n",
    "    \n",
    "format_string(\"Dr. Darshan Ingle@AI-ML Trainer\")"
   ]
  },
  {
   "cell_type": "code",
   "execution_count": null,
   "metadata": {},
   "outputs": [],
   "source": []
  }
 ],
 "metadata": {
  "kernelspec": {
   "display_name": "Python 3",
   "language": "python",
   "name": "python3"
  },
  "language_info": {
   "codemirror_mode": {
    "name": "ipython",
    "version": 3
   },
   "file_extension": ".py",
   "mimetype": "text/x-python",
   "name": "python",
   "nbconvert_exporter": "python",
   "pygments_lexer": "ipython3",
   "version": "3.7.6"
  }
 },
 "nbformat": 4,
 "nbformat_minor": 4
}
